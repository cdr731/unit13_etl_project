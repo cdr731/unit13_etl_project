{
 "cells": [
  {
   "cell_type": "code",
   "execution_count": 1,
   "metadata": {},
   "outputs": [],
   "source": [
    "from splinter import Browser\n",
    "from splinter.exceptions import ElementDoesNotExist\n",
    "from selenium.common.exceptions import StaleElementReferenceException\n",
    "from bs4 import BeautifulSoup as bs\n",
    "import pymongo\n",
    "import time"
   ]
  },
  {
   "cell_type": "code",
   "execution_count": 3,
   "metadata": {},
   "outputs": [],
   "source": [
    "# mongodb connection\n",
    "conn = 'mongodb://localhost:27017'\n",
    "client = pymongo.MongoClient(conn)\n",
    "\n",
    "db = client.job_description_db2\n",
    "\n",
    "#db.jd.delete_many({}) # clean collection"
   ]
  },
  {
   "cell_type": "code",
   "execution_count": 4,
   "metadata": {},
   "outputs": [],
   "source": [
    "cities = ['San Diego, CA', 'New York, NY', 'Los Angeles, CA', 'Chicago, IL', 'Washington, DC', 'San Francisco, CA',\n",
    "          'Boston, MA', 'Dallas, TX', 'Philadelphia, PA', 'Houston, TX', 'Miami, FL', 'Atlanta, GA',\n",
    "          'Detroit, MI', 'Seattle, WA', 'Minneapolis, MN', 'Cleveland, OH', 'Denver, CO', 'Orlando, FL', 'Portland, OR',\n",
    "          'St. Louis, MO', 'Pittsburgh, PA', 'Charlotte, NC', 'Sacramento, CA', 'Salt Lake City, UT', 'Kansas City, MO',\n",
    "          'Columbus, OH', 'Las Vegas, NV', 'Indianapolis, IN', 'Cincinnati, OH', 'Raleigh, NC', 'Milwaukee, WI' ]\n",
    "\n",
    "job_queries = ['\"Data Scientist\"']"
   ]
  },
  {
   "cell_type": "code",
   "execution_count": 5,
   "metadata": {},
   "outputs": [],
   "source": [
    "# init browser\n",
    "browser = Browser('chrome')\n",
    "browser.visit('http://glassdoor.com')"
   ]
  },
  {
   "cell_type": "code",
   "execution_count": 13,
   "metadata": {},
   "outputs": [
    {
     "name": "stdout",
     "output_type": "stream",
     "text": [
      "Note: you may need to login in glassdoor using the chrome driver window before proceeding.\n",
      "Hit <Enter> when you are ready.\n"
     ]
    }
   ],
   "source": [
    "_ = input(\"Note: you may need to login in glassdoor using the chrome driver window before proceeding.\\n\"\\\n",
    "          \"Hit <Enter> when you are ready.\")\n",
    "\n",
    "for city in cities:\n",
    "    for job_title_query in job_queries:\n",
    "        \n",
    "        # query glassdoor\n",
    "        browser.find_by_id('sc.keyword').fill(job_title_query)\n",
    "        browser.find_by_id('sc.location').fill(city)\n",
    "        browser.click_link_by_id('HeroSearchButton')\n",
    "        \n",
    "        # Use the browser to find the <li> tags, then use soup to scrape\n",
    "        # We need the browser for clicking on the <li> and get the detailed job description\n",
    "        job_list = browser.find_by_id('MainCol')[0].find_by_tag('ul')[0].find_by_tag('li')\n",
    "        \n",
    "        while len(job_list) > 0:\n",
    "\n",
    "            # extract job title, employer, salary and detailed description\n",
    "            for li in job_list:\n",
    "                \n",
    "                # click on job hit\n",
    "                li.click()\n",
    "                \n",
    "                time.sleep(0.5)\n",
    "                \n",
    "                soup_li = bs(li.html, 'html.parser')\n",
    "                \n",
    "                try:\n",
    "                    job_title = soup_li.find('div', class_='jobTitle').find('div').text.strip()\n",
    "                except:\n",
    "                    job_title = 'ERROR'\n",
    "                    \n",
    "                try:\n",
    "                    employer_div = soup_li.find('div', class_='empLoc').find('div')\n",
    "                    job_employer = ''.join(employer_div.text.split('–')[0:-1]).strip() # remove the city name\n",
    "                    job_employer_city = employer_div.find('span').text.strip()\n",
    "                    if job_employer.startswith('Indeed Prime'): continue\n",
    "                except:\n",
    "                    job_employer = 'ERROR'\n",
    "                \n",
    "                try:\n",
    "                    job_salary = soup_li.find('span', class_='green').text.strip()\n",
    "                except:\n",
    "                    job_salary = \"ERROR\"\n",
    "                \n",
    "                try:\n",
    "                    job_description = browser.find_by_id('JobDescriptionContainer')[0].value\n",
    "                except StaleElementReferenceException:\n",
    "                    time.sleep(2)\n",
    "                    # try again\n",
    "                    job_description = browser.find_by_id('JobDescriptionContainer')[0].value\n",
    "                except ElementDoesNotExist:\n",
    "                    continue\n",
    "                    \n",
    "                \n",
    "                #print(job_title + ' ' + job_employer + ' ' + job_employer_city + ' '+ job_salary + ' ' + job_description[0:100] )\n",
    "                \n",
    "                post = {'query_title':job_title_query, \"query_city\":city, 'job_title':job_title, \\\n",
    "                        'job_employer':job_employer,'job_employer_city':job_employer_city, \\\n",
    "                        'job_salary':job_salary, 'job_decription':job_description}\n",
    "                x = db.jd.insert_one(post)                \n",
    "            \n",
    "            # click on next button\n",
    "            try:\n",
    "                li_next = browser.find_by_id('FooterPageNav')[0].find_by_tag('li').last\n",
    "            except ElementDoesNotExist:\n",
    "                job_list = []\n",
    "                continue\n",
    "            if li_next.find_by_tag('span')[0].has_class('disabled'):\n",
    "                # reached end of list\n",
    "                job_list = []\n",
    "            else:\n",
    "                # get next list\n",
    "                li_next.click()\n",
    "                job_list = browser.find_by_id('MainCol')[0].find_by_tag('ul')[0].find_by_tag('li')\n",
    "                "
   ]
  },
  {
   "cell_type": "code",
   "execution_count": null,
   "metadata": {},
   "outputs": [],
   "source": []
  }
 ],
 "metadata": {
  "kernelspec": {
   "display_name": "Python 3",
   "language": "python",
   "name": "python3"
  },
  "language_info": {
   "codemirror_mode": {
    "name": "ipython",
    "version": 3
   },
   "file_extension": ".py",
   "mimetype": "text/x-python",
   "name": "python",
   "nbconvert_exporter": "python",
   "pygments_lexer": "ipython3",
   "version": "3.7.1"
  }
 },
 "nbformat": 4,
 "nbformat_minor": 2
}
