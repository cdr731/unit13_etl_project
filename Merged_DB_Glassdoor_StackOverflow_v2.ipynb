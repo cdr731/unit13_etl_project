{
 "cells": [
  {
   "cell_type": "code",
   "execution_count": 2,
   "metadata": {},
   "outputs": [
    {
     "data": {
      "application/javascript": [
       "IPython.notebook.set_autosave_interval(0)"
      ]
     },
     "metadata": {},
     "output_type": "display_data"
    },
    {
     "name": "stdout",
     "output_type": "stream",
     "text": [
      "Autosave disabled\n"
     ]
    }
   ],
   "source": [
    "%autosave 0\n",
    "\n",
    "# Dependencies\n",
    "from splinter import Browser\n",
    "from bs4 import BeautifulSoup as bs\n",
    "import requests\n",
    "import os\n",
    "import pandas as pd\n",
    "import pymongo\n",
    "import time\n",
    "import re"
   ]
  },
  {
   "cell_type": "code",
   "execution_count": 3,
   "metadata": {},
   "outputs": [],
   "source": [
    "# mongodb connection\n",
    "conn = 'mongodb://localhost:27017'\n",
    "client = pymongo.MongoClient(conn)\n",
    "\n",
    "db = client.job_description_db2"
   ]
  },
  {
   "cell_type": "code",
   "execution_count": 3,
   "metadata": {},
   "outputs": [],
   "source": [
    "# Initialize executable path for the chromedriver\n",
    "executable_path = {'executable_path': 'chromedriver.exe'}\n",
    "browser = Browser('chrome', **executable_path, headless=False)"
   ]
  },
  {
   "cell_type": "code",
   "execution_count": 4,
   "metadata": {},
   "outputs": [],
   "source": [
    "base_url = 'https://stackoverflow.com/tags?page='"
   ]
  },
  {
   "cell_type": "code",
   "execution_count": 5,
   "metadata": {},
   "outputs": [],
   "source": [
    "skill_list = []\n",
    "ct_total_list = []\n",
    "ct_week_list = []"
   ]
  },
  {
   "cell_type": "code",
   "execution_count": 6,
   "metadata": {},
   "outputs": [],
   "source": [
    "for next_page in range(1,31):\n",
    "    \n",
    "    new_url = base_url + str(next_page) + \"&tab=popular\"\n",
    "    browser.visit(new_url)\n",
    "    html = browser.html\n",
    "    soup = bs(html, 'html.parser')\n",
    "\n",
    "    tag_card = soup.find('div', class_=\"grid-layout\")\n",
    "    \n",
    "    for i in range(36):\n",
    "        tag_name = tag_card.find_all('div', class_='grid-layout--cell')[i].a.text\n",
    "        tag_question_ct = tag_card.find_all('span', class_='item-multiplier-count')[i].text\n",
    "        \n",
    "        try:\n",
    "            tag_week_ct = tag_card.find_all('div', class_='grid--cell stats-row')[i]('a')[1].text\n",
    "        except:\n",
    "            tag_week_ct = \"0 this week\"     \n",
    "        \n",
    "        #print(tag_name + \" \" + tag_question_ct + \" \" + tag_week_ct)    \n",
    "        \n",
    "        if \"-\" in tag_name:\n",
    "            tag_name = tag_name.replace(\"-\", \" \")    \n",
    "        skill_list.append(tag_name)\n",
    "        \n",
    "        ct_total_list.append(int(tag_question_ct))\n",
    "        \n",
    "        if \"week\" in tag_week_ct:\n",
    "            tag_week_ct = float(tag_week_ct.replace(' this week', ''))\n",
    "        elif \"month\" in tag_week_ct:\n",
    "            tag_week_ct = float(tag_week_ct.replace(' this month', ''))/4\n",
    "        elif \"year\" in tag_week_ct:\n",
    "            tag_week_ct = float(tag_week_ct.replace(' this year', ''))/52\n",
    "        \n",
    "        tag_week_ct = int(tag_week_ct)\n",
    "        ct_week_list.append(tag_week_ct)"
   ]
  },
  {
   "cell_type": "code",
   "execution_count": 7,
   "metadata": {},
   "outputs": [
    {
     "data": {
      "text/plain": [
       "1080"
      ]
     },
     "execution_count": 7,
     "metadata": {},
     "output_type": "execute_result"
    }
   ],
   "source": [
    "len(ct_week_list)"
   ]
  },
  {
   "cell_type": "code",
   "execution_count": 8,
   "metadata": {},
   "outputs": [
    {
     "data": {
      "text/plain": [
       "1080"
      ]
     },
     "execution_count": 8,
     "metadata": {},
     "output_type": "execute_result"
    }
   ],
   "source": [
    "len(ct_total_list)"
   ]
  },
  {
   "cell_type": "code",
   "execution_count": 9,
   "metadata": {},
   "outputs": [
    {
     "data": {
      "text/plain": [
       "1080"
      ]
     },
     "execution_count": 9,
     "metadata": {},
     "output_type": "execute_result"
    }
   ],
   "source": [
    "len(skill_list)"
   ]
  },
  {
   "cell_type": "code",
   "execution_count": 10,
   "metadata": {},
   "outputs": [],
   "source": [
    "skill_df = pd.DataFrame({\"Skill\": skill_list, \"Total Questions\": ct_total_list, \"Weekly Questions\": ct_week_list})"
   ]
  },
  {
   "cell_type": "code",
   "execution_count": 11,
   "metadata": {},
   "outputs": [
    {
     "data": {
      "text/html": [
       "<div>\n",
       "<style scoped>\n",
       "    .dataframe tbody tr th:only-of-type {\n",
       "        vertical-align: middle;\n",
       "    }\n",
       "\n",
       "    .dataframe tbody tr th {\n",
       "        vertical-align: top;\n",
       "    }\n",
       "\n",
       "    .dataframe thead th {\n",
       "        text-align: right;\n",
       "    }\n",
       "</style>\n",
       "<table border=\"1\" class=\"dataframe\">\n",
       "  <thead>\n",
       "    <tr style=\"text-align: right;\">\n",
       "      <th></th>\n",
       "      <th>Skill</th>\n",
       "      <th>Total Questions</th>\n",
       "      <th>Weekly Questions</th>\n",
       "    </tr>\n",
       "  </thead>\n",
       "  <tbody>\n",
       "    <tr>\n",
       "      <th>0</th>\n",
       "      <td>javascript</td>\n",
       "      <td>1794705</td>\n",
       "      <td>5050</td>\n",
       "    </tr>\n",
       "    <tr>\n",
       "      <th>1</th>\n",
       "      <td>java</td>\n",
       "      <td>1537465</td>\n",
       "      <td>3824</td>\n",
       "    </tr>\n",
       "    <tr>\n",
       "      <th>2</th>\n",
       "      <td>c#</td>\n",
       "      <td>1303551</td>\n",
       "      <td>2882</td>\n",
       "    </tr>\n",
       "    <tr>\n",
       "      <th>3</th>\n",
       "      <td>php</td>\n",
       "      <td>1277142</td>\n",
       "      <td>2703</td>\n",
       "    </tr>\n",
       "    <tr>\n",
       "      <th>4</th>\n",
       "      <td>android</td>\n",
       "      <td>1187694</td>\n",
       "      <td>2637</td>\n",
       "    </tr>\n",
       "    <tr>\n",
       "      <th>5</th>\n",
       "      <td>python</td>\n",
       "      <td>1151834</td>\n",
       "      <td>6230</td>\n",
       "    </tr>\n",
       "    <tr>\n",
       "      <th>6</th>\n",
       "      <td>jquery</td>\n",
       "      <td>950786</td>\n",
       "      <td>1174</td>\n",
       "    </tr>\n",
       "    <tr>\n",
       "      <th>7</th>\n",
       "      <td>html</td>\n",
       "      <td>817017</td>\n",
       "      <td>1952</td>\n",
       "    </tr>\n",
       "    <tr>\n",
       "      <th>8</th>\n",
       "      <td>c++</td>\n",
       "      <td>613771</td>\n",
       "      <td>1403</td>\n",
       "    </tr>\n",
       "    <tr>\n",
       "      <th>9</th>\n",
       "      <td>ios</td>\n",
       "      <td>596021</td>\n",
       "      <td>894</td>\n",
       "    </tr>\n",
       "    <tr>\n",
       "      <th>10</th>\n",
       "      <td>css</td>\n",
       "      <td>582218</td>\n",
       "      <td>1194</td>\n",
       "    </tr>\n",
       "    <tr>\n",
       "      <th>11</th>\n",
       "      <td>mysql</td>\n",
       "      <td>557433</td>\n",
       "      <td>1180</td>\n",
       "    </tr>\n",
       "    <tr>\n",
       "      <th>12</th>\n",
       "      <td>sql</td>\n",
       "      <td>487791</td>\n",
       "      <td>1200</td>\n",
       "    </tr>\n",
       "    <tr>\n",
       "      <th>13</th>\n",
       "      <td>asp.net</td>\n",
       "      <td>344990</td>\n",
       "      <td>386</td>\n",
       "    </tr>\n",
       "    <tr>\n",
       "      <th>14</th>\n",
       "      <td>ruby on rails</td>\n",
       "      <td>305246</td>\n",
       "      <td>309</td>\n",
       "    </tr>\n",
       "  </tbody>\n",
       "</table>\n",
       "</div>"
      ],
      "text/plain": [
       "            Skill  Total Questions  Weekly Questions\n",
       "0      javascript          1794705              5050\n",
       "1            java          1537465              3824\n",
       "2              c#          1303551              2882\n",
       "3             php          1277142              2703\n",
       "4         android          1187694              2637\n",
       "5          python          1151834              6230\n",
       "6          jquery           950786              1174\n",
       "7            html           817017              1952\n",
       "8             c++           613771              1403\n",
       "9             ios           596021               894\n",
       "10            css           582218              1194\n",
       "11          mysql           557433              1180\n",
       "12            sql           487791              1200\n",
       "13        asp.net           344990               386\n",
       "14  ruby on rails           305246               309"
      ]
     },
     "execution_count": 11,
     "metadata": {},
     "output_type": "execute_result"
    }
   ],
   "source": [
    "skill_df.head(15)"
   ]
  },
  {
   "cell_type": "code",
   "execution_count": 12,
   "metadata": {},
   "outputs": [
    {
     "data": {
      "text/plain": [
       "<pymongo.results.InsertManyResult at 0x2c9b11fdd08>"
      ]
     },
     "execution_count": 12,
     "metadata": {},
     "output_type": "execute_result"
    }
   ],
   "source": [
    "db.stackoverflow_skills.insert_many(skill_df.to_dict('records'))"
   ]
  },
  {
   "cell_type": "code",
   "execution_count": 14,
   "metadata": {},
   "outputs": [],
   "source": [
    "documents = db.jd.find()\n",
    "\n",
    "# tags = db.stackoverflow_skills.find()\n",
    "for doc in documents:\n",
    "    uid = doc['_id']\n",
    "    doc['job_skills'] = []\n",
    "    for tag in skill_df['Skill']:\n",
    "#         if tag in doc['job_decription']:\n",
    "        pattern = re.compile(r'\\b' + re.escape(tag) + r'\\b', flags=re.IGNORECASE)\n",
    "        paragraph = doc['job_decription']\n",
    "        if pattern.search(paragraph):\n",
    "            doc['job_skills'].append(tag)\n",
    "#     db.jd.update_many({'query_title': 'Data Scientist'}, {'$set': {'job_skills': doc['job_skills']}})\n",
    "    db.jd.update_many({'_id': uid}, {'$set': {'job_skills': doc['job_skills']}})"
   ]
  },
  {
   "cell_type": "code",
   "execution_count": 4,
   "metadata": {},
   "outputs": [
    {
     "name": "stdout",
     "output_type": "stream",
     "text": [
      "{'python': 2935, 'c': 594, 'performance': 1132, 'object': 130, 'tensorflow': 468, 'hadoop': 1077, 'math': 555, 'optimization': 909, 'dynamic': 604, 'model': 1060, 'background': 850, 'localization': 2, 'deep learning': 637, 'statistics': 2272, 'frameworks': 461, 'computer vision': 102, 'position': 1316, 'expression': 436, 'sql': 2010, 'perl': 96, 'join': 1201, 'machine learning': 2621, 'build': 1684, 'reference': 47, 'stream': 26, 'key': 1201, 'java': 860, 'r': 2471, 'mongodb': 127, 'pandas': 320, 'matlab': 403, 'random': 277, 'mobile': 198, 'methods': 1344, 'data structures': 196, 'graph': 171, 'hive': 583, 'keras': 207, 'cassandra': 84, 'process': 981, 'pyspark': 72, 'nosql': 303, 'map': 129, 'set': 500, 'find': 587, 'include': 963, 'package': 376, 'hbase': 95, 'database': 568, 'scala': 561, 'validation': 357, 'shiny': 102, 'architecture': 343, 'sas': 739, 'components': 167, 'authorization': 130, 'cloud': 814, 'web': 491, 'search': 319, 'service': 624, 'location': 656, 'mysql': 130, 'linux': 309, 'oracle': 183, 'forms': 83, 'list': 93, 'time': 1693, 'scope': 221, 'request': 166, 'mapreduce': 179, 'com': 786, 'range': 564, 'hdfs': 66, 'client': 794, 'sql server': 120, 'class': 487, 'vector': 114, 'server': 159, 'nested': 7, 'report': 240, 'focus': 675, 'excel': 336, 'file': 55, 'testing': 804, 'database design': 56, 'outlook': 30, 'text': 342, 'neural network': 64, 'nlp': 366, 'unix': 158, 'login': 5, 'scripting': 452, 'transactions': 89, 'resources': 375, 'command': 131, 'click': 163, 'amazon web services': 93, 'web services': 121, 'security': 455, 'automation': 294, 'azure': 271, 'salesforce': 43, 'django': 21, 'api': 84, 'select': 133, 'get': 570, 'output': 148, 'angular': 19, 'deployment': 434, 'grid': 21, 'rest': 119, 'http': 159, 'relational database': 67, 'git': 222, 'maven': 8, 'docker': 81, 'size': 87, 'task': 132, 'go': 264, 'facebook': 118, 'google analytics': 50, 'tree': 127, 'events': 271, 'match': 187, 'less': 108, 'input': 93, 'algorithm': 243, 'apache': 136, 'sqlite': 4, 'github': 108, 'types': 188, 'parameters': 56, 'version control': 125, 'scipy': 145, 'apache kafka': 4, 'streaming': 97, 'terminal': 7, 'format': 92, 'path': 93, 'dataset': 67, 'elasticsearch': 79, 'audio': 34, 'video': 158, 'lambda': 28, 'stack': 202, 'save': 94, 'embedded': 54, 'install': 9, 'double': 21, 'function': 243, 'neo4j': 50, 'redis': 24, 'numpy': 237, 'matplotlib': 107, 'integer': 18, 'matrix': 67, 'time series': 276, 'jupyter notebook': 12, 'google cloud platform': 30, 'email': 203, 'date': 249, 'post': 154, 'plsql': 8, 'gps': 14, 'controls': 70, 'alignment': 97, 'https': 150, 'attributes': 74, 'parsing': 37, 'svn': 22, 'tfs': 15, 'express': 28, 'boost': 8, 'rabbitmq': 6, 'akka': 5, 'configuration': 42, 'pivot': 19, 'comparison': 9, 'interface': 117, 'scheme': 4, 'canvas': 4, 'load': 44, 'debugging': 27, 'ggplot2': 30, 'twitter': 96, 'clojure': 10, 'promise': 24, 'php': 61, 'numbers': 81, 'routing': 28, 'jersey': 31, 'passwords': 2, 'flex': 18, 'apache spark': 88, 'dictionary': 4, 'geolocation': 5, 'arm': 46, 'kernel': 9, 'javascript': 191, 'coffeescript': 1, 'web scraping': 26, 'devise': 40, 'dplyr': 12, 'operators': 26, 'view': 195, 'upload': 28, 'button': 46, 'colors': 1, 'logging': 20, 'spring': 15, 'json': 35, 'jenkins': 23, 'serialization': 6, 'kotlin': 6, 'kubernetes': 42, 'ansible': 2, 'gitlab': 9, 'containers': 35, 'postgresql': 71, 'repository': 47, 'logic': 65, 'collections': 35, 'merge': 31, 'touch': 65, 'shell': 89, 'd3.js': 72, 'properties': 85, 'count': 30, 'menu': 12, 'google bigquery': 5, 'character': 20, 'label': 15, 'constraints': 148, 'mapping': 51, 'iteration': 38, 'copy': 23, 'vba': 43, '3d': 23, 'return': 62, 'image': 163, 'image processing': 68, 'design patterns': 29, 'variables': 72, 'static': 15, 'java 8': 4, '.net': 19, 'vb.net': 1, 'pdf': 46, 'maps': 35, 'macros': 18, 'networking': 41, 'formatting': 6, 'solr': 47, 'lucene': 25, 'ipython': 7, 'bash': 61, 'scikit learn': 39, 'memory': 20, 'functional programming': 10, 'asynchronous': 3, 'redux': 4, 'themes': 13, 'db2': 29, 'flask': 48, 'oop': 9, 'continuous integration': 30, 'core data': 19, 'routes': 2, 'session': 8, 'keyboard': 13, 'arguments': 9, 'annotations': 4, 'import': 9, 'soap': 9, 'certificate': 13, 'html': 75, 'command line': 45, 'video streaming': 5, 'realm': 18, 'heroku': 6, 'user interface': 12, 'url': 6, 'zip': 13, 'excel vba': 5, 'android': 30, 'ios': 24, 'download': 21, 'node.js': 12, 'chef': 14, 'tsql': 3, 'window': 6, 'ruby': 49, 'youtube': 13, 'sqlalchemy': 2, 'google app engine': 2, 'compare': 22, 'unit testing': 40, 'refactoring': 7, 'dart': 3, 'registry': 9, 'logstash': 3, 'authentication': 9, 'encryption': 4, 'cookies': 13, 'browser': 19, 'cryptography': 4, 'haskell': 2, 'proxy': 4, 'charts': 22, 'html5': 16, 'css3': 8, 'plot': 18, 'floating point': 1, 'jsp': 1, 'css': 33, 'google maps': 5, 'concurrency': 2, 'conditional': 11, 'syntax': 5, 'dialog': 2, 'binary': 5, 'google chrome': 5, 'firefox': 5, 'air': 47, 'exception': 3, 'loops': 5, 'io': 4, 'ubuntu': 2, 'web applications': 18, 'graphql': 4, 'ruby on rails': 10, 'indexing': 15, 'swift': 11, 'notifications': 7, 'ms word': 14, 'null': 11, 'paypal': 6, 'csv': 4, 'sorting': 6, 'installation': 17, 'ip': 24, 'xml': 33, 'parallel processing': 12, 'sum': 12, 'opencv': 10, 'sms': 10, 'java ee': 1, 'junit': 2, 'mockito': 2, 'ssis': 13, 'powershell': 7, 'dependencies': 16, 'assembly': 6, 'crash': 2, 'compression': 3, 'bitbucket': 14, 'group by': 1, 'google cloud storage': 1, 'module': 5, 'reporting services': 8, 'orm': 4, 'mercurial': 7, 'polymorphism': 2, 'connection': 32, 'stored procedures': 7, 'sharepoint': 14, 'triggers': 3, 'odbc': 3, 'layout': 4, 'anaconda': 3, 'odata': 3, 'lua': 2, 'templates': 17, 'elixir': 1, 'twilio': 1, 'webrtc': 1, 'graphics': 18, 'append': 2, 'int': 9, 'rotation': 6, 'bigdata': 7, 'jquery': 14, 'prolog': 2, 'lisp': 3, 'navigation': 12, 'type conversion': 3, 'migration': 21, 'windows': 45, 'rust': 4, 'google sheets': 1, 'cuda': 14, 'xslt': 1, 'jdbc': 1, 'gmail': 1, 'replace': 7, 'runtime': 2, 'eclipse': 3, 'gradle': 2, 'groovy': 3, 'pycharm': 3, 'latex': 5, 'doctrine': 3, 'wordpress': 1, 'insert': 4, 'highcharts': 6, 'client server': 3, 'cmd': 1, 'calendar': 9, 'closures': 3, 'centos': 1, 'export': 11, 'asp.net': 8, 'visual studio': 2, 'iis': 1, 'plugins': 1, 'model view controller': 3, 'controller': 4, 'console': 2, 'ldap': 2, 'ms access': 3, 'vagrant': 1, 'mule': 1, 'fortran': 3, 'iphone': 2, 'ipad': 2, 'header': 2, 'eloquent': 2, 'internationalization': 2, 'angularjs': 4, 'reflection': 8, 'hibernate': 1, 'styles': 11, 'ssh': 1, 'grep': 2, 'jvm': 2, 'aws lambda': 3, 'sdk': 2, 'filter': 27, 'pip': 2, 'react native': 2, 'regex': 3, 'timezone': 2, 'printing': 4, '2d': 5, 'typescript': 3, 'queue': 3, 'delegates': 1, 'operating system': 7, 'jackson': 1, 'tkinter': 1, 'pattern matching': 3, 'app store': 2, 'camera': 3, 'hover': 2, 'pipe': 1, 'pointers': 2, 'google play': 1, 'sockets': 1, 'tcp': 10, 'network programming': 1, 'udp': 6, 'synchronization': 7, 'mfc': 1, 'virtual machine': 1, 'electron': 2, 'awk': 6, 'sed': 1, 'blackberry': 1, 'compilation': 3, 'caching': 3, 'permissions': 2, 'wpf': 2, 'entity framework': 4, 'wcf': 2, 'silverlight': 2, 'sql server 2005': 2, 'oauth': 2, 'swt': 2, 'encoding': 2, 'ftp': 2, 'split': 4, 'scroll': 2, 'tags': 3, 'seo': 2, 'widget': 2, 'grails': 1, 'automated tests': 1, 'arrays': 3, 'mariadb': 2, 'swagger': 1, 'dns': 3, 'language agnostic': 1, 'ajax': 2, 'dependency injection': 1, 'max': 1, 'data.table': 1, 'sitecore': 2, 'error handling': 1, 'sbt': 1, 'amazon ec2': 1, 'three.js': 1, 'cordova': 1, 'recursion': 2, 'ssl': 2, 'smtp': 1, 'command line interface': 2, 'svg': 1, 'cron': 3, 'active directory': 2, 'directory': 2, 'folder': 3, 'selenium': 2, 'tomcat': 1, 'websphere': 1, 'geometry': 1}\n"
     ]
    }
   ],
   "source": [
    "counts = {}\n",
    "documents = db.jd.find()\n",
    "\n",
    "for doc in documents:\n",
    "    for skill in doc['job_skills']:\n",
    "        if skill in counts:\n",
    "            counts[skill] += 1\n",
    "        else:\n",
    "            counts[skill] = 1\n",
    "print(counts)\n",
    "#db.skillcounts.insert_one(counts)"
   ]
  },
  {
   "cell_type": "code",
   "execution_count": 8,
   "metadata": {},
   "outputs": [
    {
     "data": {
      "text/html": [
       "<div>\n",
       "<style scoped>\n",
       "    .dataframe tbody tr th:only-of-type {\n",
       "        vertical-align: middle;\n",
       "    }\n",
       "\n",
       "    .dataframe tbody tr th {\n",
       "        vertical-align: top;\n",
       "    }\n",
       "\n",
       "    .dataframe thead th {\n",
       "        text-align: right;\n",
       "    }\n",
       "</style>\n",
       "<table border=\"1\" class=\"dataframe\">\n",
       "  <thead>\n",
       "    <tr style=\"text-align: right;\">\n",
       "      <th></th>\n",
       "      <th>skills</th>\n",
       "      <th>counts</th>\n",
       "    </tr>\n",
       "  </thead>\n",
       "  <tbody>\n",
       "    <tr>\n",
       "      <th>0</th>\n",
       "      <td>python</td>\n",
       "      <td>2935</td>\n",
       "    </tr>\n",
       "    <tr>\n",
       "      <th>1</th>\n",
       "      <td>c</td>\n",
       "      <td>594</td>\n",
       "    </tr>\n",
       "    <tr>\n",
       "      <th>2</th>\n",
       "      <td>performance</td>\n",
       "      <td>1132</td>\n",
       "    </tr>\n",
       "    <tr>\n",
       "      <th>3</th>\n",
       "      <td>object</td>\n",
       "      <td>130</td>\n",
       "    </tr>\n",
       "    <tr>\n",
       "      <th>4</th>\n",
       "      <td>tensorflow</td>\n",
       "      <td>468</td>\n",
       "    </tr>\n",
       "    <tr>\n",
       "      <th>5</th>\n",
       "      <td>hadoop</td>\n",
       "      <td>1077</td>\n",
       "    </tr>\n",
       "    <tr>\n",
       "      <th>6</th>\n",
       "      <td>math</td>\n",
       "      <td>555</td>\n",
       "    </tr>\n",
       "    <tr>\n",
       "      <th>7</th>\n",
       "      <td>optimization</td>\n",
       "      <td>909</td>\n",
       "    </tr>\n",
       "    <tr>\n",
       "      <th>8</th>\n",
       "      <td>dynamic</td>\n",
       "      <td>604</td>\n",
       "    </tr>\n",
       "    <tr>\n",
       "      <th>9</th>\n",
       "      <td>model</td>\n",
       "      <td>1060</td>\n",
       "    </tr>\n",
       "  </tbody>\n",
       "</table>\n",
       "</div>"
      ],
      "text/plain": [
       "         skills  counts\n",
       "0        python    2935\n",
       "1             c     594\n",
       "2   performance    1132\n",
       "3        object     130\n",
       "4    tensorflow     468\n",
       "5        hadoop    1077\n",
       "6          math     555\n",
       "7  optimization     909\n",
       "8       dynamic     604\n",
       "9         model    1060"
      ]
     },
     "execution_count": 8,
     "metadata": {},
     "output_type": "execute_result"
    }
   ],
   "source": [
    "keys, values = zip(*counts.items())\n",
    "skills_counts_df = pd.DataFrame( {'skills': keys, 'counts':values} )\n",
    "skills_counts_df.head(10)"
   ]
  },
  {
   "cell_type": "code",
   "execution_count": 13,
   "metadata": {},
   "outputs": [
    {
     "data": {
      "text/html": [
       "<div>\n",
       "<style scoped>\n",
       "    .dataframe tbody tr th:only-of-type {\n",
       "        vertical-align: middle;\n",
       "    }\n",
       "\n",
       "    .dataframe tbody tr th {\n",
       "        vertical-align: top;\n",
       "    }\n",
       "\n",
       "    .dataframe thead th {\n",
       "        text-align: right;\n",
       "    }\n",
       "</style>\n",
       "<table border=\"1\" class=\"dataframe\">\n",
       "  <thead>\n",
       "    <tr style=\"text-align: right;\">\n",
       "      <th></th>\n",
       "      <th>skills</th>\n",
       "      <th>counts</th>\n",
       "    </tr>\n",
       "  </thead>\n",
       "  <tbody>\n",
       "    <tr>\n",
       "      <th>0</th>\n",
       "      <td>python</td>\n",
       "      <td>2935</td>\n",
       "    </tr>\n",
       "    <tr>\n",
       "      <th>21</th>\n",
       "      <td>machine learning</td>\n",
       "      <td>2621</td>\n",
       "    </tr>\n",
       "    <tr>\n",
       "      <th>27</th>\n",
       "      <td>r</td>\n",
       "      <td>2471</td>\n",
       "    </tr>\n",
       "    <tr>\n",
       "      <th>13</th>\n",
       "      <td>statistics</td>\n",
       "      <td>2272</td>\n",
       "    </tr>\n",
       "    <tr>\n",
       "      <th>18</th>\n",
       "      <td>sql</td>\n",
       "      <td>2010</td>\n",
       "    </tr>\n",
       "    <tr>\n",
       "      <th>66</th>\n",
       "      <td>time</td>\n",
       "      <td>1693</td>\n",
       "    </tr>\n",
       "    <tr>\n",
       "      <th>22</th>\n",
       "      <td>build</td>\n",
       "      <td>1684</td>\n",
       "    </tr>\n",
       "    <tr>\n",
       "      <th>33</th>\n",
       "      <td>methods</td>\n",
       "      <td>1344</td>\n",
       "    </tr>\n",
       "    <tr>\n",
       "      <th>16</th>\n",
       "      <td>position</td>\n",
       "      <td>1316</td>\n",
       "    </tr>\n",
       "    <tr>\n",
       "      <th>20</th>\n",
       "      <td>join</td>\n",
       "      <td>1201</td>\n",
       "    </tr>\n",
       "  </tbody>\n",
       "</table>\n",
       "</div>"
      ],
      "text/plain": [
       "              skills  counts\n",
       "0             python    2935\n",
       "21  machine learning    2621\n",
       "27                 r    2471\n",
       "13        statistics    2272\n",
       "18               sql    2010\n",
       "66              time    1693\n",
       "22             build    1684\n",
       "33           methods    1344\n",
       "16          position    1316\n",
       "20              join    1201"
      ]
     },
     "execution_count": 13,
     "metadata": {},
     "output_type": "execute_result"
    }
   ],
   "source": [
    "skills_counts_df.sort_values('counts', ascending=False, inplace=True)\n",
    "skills_counts_df.head(10)"
   ]
  },
  {
   "cell_type": "code",
   "execution_count": 73,
   "metadata": {},
   "outputs": [],
   "source": [
    "import matplotlib.pyplot as plt\n",
    "%matplotlib inline\n",
    "\n",
    "top = skills_counts_df.head(50)\n",
    "#top25.set_index('skills', inplace=True)\n",
    "top_skills = top['skills']\n",
    "top_counts = top['counts']\n"
   ]
  },
  {
   "cell_type": "code",
   "execution_count": 93,
   "metadata": {},
   "outputs": [
    {
     "data": {
      "image/png": "[encoded data removed]",
      "text/plain": [
       "<Figure size 720x720 with 2 Axes>"
      ]
     },
     "metadata": {
      "needs_background": "light"
     },
     "output_type": "display_data"
    }
   ],
   "source": [
    "\n",
    "fig = plt.figure(figsize=(10,10))\n",
    "\n",
    "ax = fig.add_subplot(121)\n",
    "ax2 = fig.add_subplot(122)\n",
    "\n",
    "\n",
    "ax.barh(top_skills[0:25],top_counts[0:25])\n",
    "ax.set_title('Top 1-25 Skills', fontsize=14)\n",
    "ax.set_xlabel('Counts', fontsize=14)\n",
    "ax.set_xlim(0,3000)\n",
    "ax.tick_params('x',labelsize=12)\n",
    "ax.tick_params('y',labelsize=14)\n",
    "ax.invert_yaxis()\n",
    "\n",
    "ax2.barh(top_skills[25:50],top_counts[25:50])\n",
    "ax2.set_title('Top 26-50 Skills', fontsize=14)\n",
    "ax2.set_xlabel('Counts', fontsize=14)\n",
    "ax2.set_xlim(0,3000)\n",
    "ax2.tick_params('x',labelsize=12)\n",
    "ax2.tick_params('y',labelsize=14)\n",
    "ax2.invert_yaxis()\n",
    "\n",
    "plt.tight_layout()"
   ]
  },
  {
   "cell_type": "code",
   "execution_count": null,
   "metadata": {},
   "outputs": [],
   "source": []
  },
  {
   "cell_type": "code",
   "execution_count": null,
   "metadata": {},
   "outputs": [],
   "source": []
  }
 ],
 "metadata": {
  "kernelspec": {
   "display_name": "Python 3",
   "language": "python",
   "name": "python3"
  },
  "language_info": {
   "codemirror_mode": {
    "name": "ipython",
    "version": 3
   },
   "file_extension": ".py",
   "mimetype": "text/x-python",
   "name": "python",
   "nbconvert_exporter": "python",
   "pygments_lexer": "ipython3",
   "version": "3.7.1"
  }
 },
 "nbformat": 4,
 "nbformat_minor": 2
}
